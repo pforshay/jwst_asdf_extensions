{
 "cells": [
  {
   "cell_type": "markdown",
   "metadata": {},
   "source": [
    "## Opening ASDF extensions in JWST files\n",
    "Many JWST data products contain an extension in ASDF (Advanced Scientific Data Format).  Astropy includes an asdf library for Python, which is able to read these extensions and extract the data inside.  In this notebook, we'll look at some samples of code using this library in action."
   ]
  },
  {
   "cell_type": "markdown",
   "metadata": {},
   "source": [
    "### Import necessary libraries\n",
    "Import the asdf library as well as a few others we'll need for our file operations."
   ]
  },
  {
   "cell_type": "code",
   "execution_count": 1,
   "metadata": {
    "collapsed": true
   },
   "outputs": [],
   "source": [
    "import asdf\n",
    "import numpy as np\n",
    "import os\n",
    "import pprint\n",
    "pp = pprint.PrettyPrinter(indent=4)"
   ]
  },
  {
   "cell_type": "markdown",
   "metadata": {},
   "source": [
    "### Retrieve the ASDF data\n",
    "We'll start with a module to return the ASDF tree for any JWST .fits file that we pass to it."
   ]
  },
  {
   "cell_type": "code",
   "execution_count": 2,
   "metadata": {
    "collapsed": true
   },
   "outputs": [],
   "source": [
    "def extract_asdf(filename):\n",
    "    \"\"\" Open a given filename using the asdf library and return the asdf tree object.\n",
    "    \n",
    "    :param filename:  The file to be opened.\n",
    "    :type filename:  str\n",
    "    \"\"\"\n",
    "    \n",
    "    # Get the full filepath\n",
    "    filepath = os.path.abspath(filename)\n",
    "    \n",
    "    # Make sure the provided file exists\n",
    "    if not os.path.isfile(filepath):\n",
    "        print(\"{0} does not exist!\".format(filepath))\n",
    "        return None\n",
    "    \n",
    "    # Open the file and pull out the asdf tree\n",
    "    with asdf.open(filepath) as img:\n",
    "        asdf_tree = img.tree\n",
    "        img.close()\n",
    "        \n",
    "    # Handle empty tree case\n",
    "    if len(asdf_tree) == 0:\n",
    "        print(\"No ASDF extension found in {0}\".format(filepath))\n",
    "        asdf_tree = None\n",
    "        \n",
    "    return asdf_tree"
   ]
  },
  {
   "cell_type": "code",
   "execution_count": 3,
   "metadata": {},
   "outputs": [
    {
     "name": "stdout",
     "output_type": "stream",
     "text": [
      "{   'asdf_library': {   'author': 'Space Telescope Science Institute',\n",
      "                        'homepage': 'http://github.com/spacetelescope/asdf',\n",
      "                        'name': 'asdf',\n",
      "                        'version': '1.2.2.dev826'},\n",
      "    'extra_fits': {   'PRIMARY': {   'header': [   [   'IRAF-TLM',\n",
      "                                                       '2017-03-03T19:37:00',\n",
      "                                                       'Time of last '\n",
      "                                                       'modification'],\n",
      "                                                   [   'HGA_MOVE',\n",
      "                                                       False,\n",
      "                                                       'High Gain Antenna '\n",
      "                                                       'moved during data '\n",
      "                                                       'collection'],\n",
      "                                                   [   'COMMENT',\n",
      "                                                       '/ Program information',\n",
      "                                                       ''],\n",
      "                                                   [   'COMMENT',\n",
      "                                                       '/ Observation '\n",
      "                                                       'identifiers',\n",
      "                                                       ''],\n",
      "                                                   [   'COMMENT',\n",
      "                                                       '/ Visit information',\n",
      "                                                       ''],\n",
      "                                                   [   'VISITSTA',\n",
      "                                                       'SUCCESSFUL',\n",
      "                                                       'Status of a visit'],\n",
      "                                                   [   'COMMENT',\n",
      "                                                       '/ Target information',\n",
      "                                                       ''],\n",
      "                                                   [   'COMMENT',\n",
      "                                                       '/Exposure parameters',\n",
      "                                                       ''],\n",
      "                                                   [   'COMMENT',\n",
      "                                                       '/Exposure information',\n",
      "                                                       ''],\n",
      "                                                   [   'COMMENT',\n",
      "                                                       '/ Exposure times',\n",
      "                                                       ''],\n",
      "                                                   [   'FRMDIVSR',\n",
      "                                                       4,\n",
      "                                                       'Divisor applied to '\n",
      "                                                       'frame-averaged groups'],\n",
      "                                                   [   'NEXTEND',\n",
      "                                                       2,\n",
      "                                                       'Number of file '\n",
      "                                                       'extensions']]}},\n",
      "    'meta': {   'aperture': {   'name': 'NRS1_FULL',\n",
      "                                'position_angle': 371.5457182032813},\n",
      "                'asn': {   'pool_name': '',\n",
      "                           'table_name': 'jw95065-a3001_20170309t141001_spec3_001_asn.json'},\n",
      "                'cal_step': {   'assign_wcs': 'COMPLETE',\n",
      "                                'dark_sub': 'COMPLETE',\n",
      "                                'dq_init': 'COMPLETE',\n",
      "                                'extract_1d': 'COMPLETE',\n",
      "                                'extract_2d': 'COMPLETE',\n",
      "                                'flat_field': 'COMPLETE',\n",
      "                                'jump': 'COMPLETE',\n",
      "                                'linearity': 'COMPLETE',\n",
      "                                'pathloss': 'COMPLETE',\n",
      "                                'persistence': 'SKIPPED',\n",
      "                                'photom': 'COMPLETE',\n",
      "                                'ramp_fit': 'COMPLETE',\n",
      "                                'refpix': 'COMPLETE',\n",
      "                                'resample': 'COMPLETE',\n",
      "                                'saturation': 'COMPLETE',\n",
      "                                'srctype': 'COMPLETE',\n",
      "                                'superbias': 'COMPLETE'},\n",
      "                'calibration_software_revision': 'fa2c05ad',\n",
      "                'calibration_software_version': '0.7.7.dev261',\n",
      "                'coordinates': {'reference_frame': 'ICRS'},\n",
      "                'data_processing_software_version': 'UNKNOWN',\n",
      "                'date': '2017-04-11T12:53:13.272',\n",
      "                'dither': {'position_number': 2, 'total_points': '3'},\n",
      "                'ephemeris': {   'coord_system': '',\n",
      "                                 'spatial_x': -1471476.90734378,\n",
      "                                 'spatial_y': -654073.745297135,\n",
      "                                 'spatial_z': -599153.058029887,\n",
      "                                 'time': 57409,\n",
      "                                 'velocity_x': 0.0122524525053563,\n",
      "                                 'velocity_y': -0.0485558561176131,\n",
      "                                 'velocity_z': -0.0297079343622792},\n",
      "                'exposure': {   'charge_time': 0.0,\n",
      "                                'comprssd': False,\n",
      "                                'count': 1,\n",
      "                                'data_problem': False,\n",
      "                                'datamode': 51,\n",
      "                                'duration': 128.84112,\n",
      "                                'end_time': 57409.94802320602,\n",
      "                                'exposure_time': 128.842,\n",
      "                                'frame_time': 10.73676,\n",
      "                                'group_time': 42.94704000000001,\n",
      "                                'groupgap': 0,\n",
      "                                'integration_time': 128.84112,\n",
      "                                'mid_time': 57409.94721546389,\n",
      "                                'nframes': 4,\n",
      "                                'ngroups': 3,\n",
      "                                'nints': 1,\n",
      "                                'nresets_at_start': 1,\n",
      "                                'nresets_between_ints': 1,\n",
      "                                'nsamples': 1,\n",
      "                                'pointing_sequence': 1,\n",
      "                                'readpatt': 'NRS',\n",
      "                                'sample_time': 10.0,\n",
      "                                'sca_num': 0,\n",
      "                                'start_time': 57409.94640772131,\n",
      "                                'type': 'NRS_MSASPEC',\n",
      "                                'zero_frame': False},\n",
      "                'filename': 'jw95065-a3001_s1_nirspec_f100lp-g140m_x1d.fits',\n",
      "                'filetype': 'uncalibrated',\n",
      "                'guide_star': {   'gs_ctd_x': 0.0,\n",
      "                                  'gs_ctd_y': 0.0,\n",
      "                                  'gs_dec': 0.0,\n",
      "                                  'gs_id': '',\n",
      "                                  'gs_jitter_rms': 0.0,\n",
      "                                  'gs_mag': 0.0,\n",
      "                                  'gs_order': 0,\n",
      "                                  'gs_pcs_mode': 'COARSE',\n",
      "                                  'gs_ra': 0.0,\n",
      "                                  'gs_start_time': '1999-01-01 00:00:00',\n",
      "                                  'gs_stop_time': '1999-01-01 00:00:00',\n",
      "                                  'gs_udec': 0.0,\n",
      "                                  'gs_umag': 0.0,\n",
      "                                  'gs_ura': 0.0,\n",
      "                                  'visit_end_time': '2016-01-22 '\n",
      "                                                    '23:22:29.0780000'},\n",
      "                'instrument': {   'detector': 'NRS1',\n",
      "                                  'filter': 'F100LP',\n",
      "                                  'focus_position': 0,\n",
      "                                  'grating': 'G140M',\n",
      "                                  'gwa_pxav': 165.8278,\n",
      "                                  'gwa_pyav': 63.01456400000004,\n",
      "                                  'gwa_tilt': 658.323364,\n",
      "                                  'gwa_xp_v': 165.9307276,\n",
      "                                  'gwa_xtilt': 0.3310426999999998,\n",
      "                                  'gwa_yp_v': 63.0031276,\n",
      "                                  'gwa_ytilt': 0.1257921160000001,\n",
      "                                  'lamp_state': 'NULL',\n",
      "                                  'msa_configuration_file': 'jw95065006001_01_msa.fits',\n",
      "                                  'msa_configuration_id': 1,\n",
      "                                  'msa_metadata_id': 65,\n",
      "                                  'msa_state': 'PRIMARYPARK_CONFIG',\n",
      "                                  'name': 'NIRSPEC',\n",
      "                                  'pre_image_id': 'jw95065001_000_pre-image.fits'},\n",
      "                'model_type': 'MultiSpecModel',\n",
      "                'observation': {   'activity_id': '01',\n",
      "                                   'date': '2016-01-22',\n",
      "                                   'exposure_number': '2',\n",
      "                                   'obs_id': 'V95065006001P0000000002101',\n",
      "                                   'observation_label': 'MRES_C0',\n",
      "                                   'observation_number': '006',\n",
      "                                   'program_number': '95065',\n",
      "                                   'sequence_id': '1',\n",
      "                                   'template': 'NIRSpec MultiObject '\n",
      "                                               'Spectroscopy',\n",
      "                                   'time': '22:42:49.627',\n",
      "                                   'visit_group': '02',\n",
      "                                   'visit_id': '95065006001',\n",
      "                                   'visit_number': '001'},\n",
      "                'origin': 'STSCI',\n",
      "                'photometry': {   'conversion_megajanskys': 1.0,\n",
      "                                  'conversion_microjanskys': 23.50443},\n",
      "                'pointing': {   'dec_v1': -27.79127312000003,\n",
      "                                'pa_v3': 0,\n",
      "                                'ra_v1': 53.16199112},\n",
      "                'prd_software_version': 'PRDOPSSOC-E-003',\n",
      "                'program': {   'category': 'ENG',\n",
      "                               'continuation_id': 0,\n",
      "                               'pi_name': 'N/A',\n",
      "                               'science_category': '',\n",
      "                               'sub_category': '',\n",
      "                               'title': 'DEEP HUDF MSA DIL - modified version '\n",
      "                                        'of 95065 - version 4'},\n",
      "                'ref_file': {   'area': {'name': 'N/A'},\n",
      "                                'camera': {   'name': 'crds://jwst_nirspec_camera_0002.asdf'},\n",
      "                                'collimator': {   'name': 'crds://jwst_nirspec_collimator_0002.asdf'},\n",
      "                                'crds': {   'context_used': 'jwst_0311.pmap',\n",
      "                                            'sw_version': '7.1.1'},\n",
      "                                'dark': {   'name': 'crds://jwst_nirspec_dark_0026.fits'},\n",
      "                                'dflat': {   'name': 'crds://jwst_nirspec_dflat_0001.fits'},\n",
      "                                'disperser': {   'name': 'crds://jwst_nirspec_disperser_0015.asdf'},\n",
      "                                'distortion': {'name': 'N/A'},\n",
      "                                'fflat': {   'name': 'crds://jwst_nirspec_fflat_0018.fits'},\n",
      "                                'filteroffset': {'name': 'N/A'},\n",
      "                                'fore': {   'name': 'crds://jwst_nirspec_fore_0010.asdf'},\n",
      "                                'fpa': {   'name': 'crds://jwst_nirspec_fpa_0003.asdf'},\n",
      "                                'gain': {   'name': 'crds://jwst_nirspec_gain_0008.fits'},\n",
      "                                'ifufore': {'name': 'N/A'},\n",
      "                                'ifupost': {'name': 'N/A'},\n",
      "                                'ifuslicer': {'name': 'N/A'},\n",
      "                                'linearity': {   'name': 'crds://jwst_nirspec_linearity_0004.fits'},\n",
      "                                'mask': {   'name': 'crds://jwst_nirspec_mask_0008.fits'},\n",
      "                                'msa': {   'name': 'crds://jwst_nirspec_msa_0003.asdf'},\n",
      "                                'ote': {   'name': 'crds://jwst_nirspec_ote_0002.asdf'},\n",
      "                                'pathloss': {   'name': 'crds://jwst_nirspec_pathloss_0002.fits'},\n",
      "                                'photom': {   'name': 'crds://jwst_nirspec_photom_0012.fits'},\n",
      "                                'readnoise': {   'name': 'crds://jwst_nirspec_readnoise_0000.fits'},\n",
      "                                'regions': {'name': 'N/A'},\n",
      "                                'saturation': {   'name': 'crds://jwst_nirspec_saturation_0010.fits'},\n",
      "                                'sflat': {   'name': 'crds://jwst_nirspec_sflat_0003.fits'},\n",
      "                                'specwcs': {'name': 'N/A'},\n",
      "                                'superbias': {   'name': 'crds://jwst_nirspec_superbias_0002.fits'},\n",
      "                                'v2v3': {'name': 'N/A'},\n",
      "                                'wavelengthrange': {   'name': 'crds://jwst_nirspec_wavelengthrange_0002.asdf'}},\n",
      "                'subarray': {   'fastaxis': 2,\n",
      "                                'name': 'FULL',\n",
      "                                'slowaxis': 1,\n",
      "                                'xsize': 2048,\n",
      "                                'xstart': 1,\n",
      "                                'ysize': 2048,\n",
      "                                'ystart': 1},\n",
      "                'target': {   'catalog_name': 'NGC1234',\n",
      "                              'dec': -27.79127312000003,\n",
      "                              'dec_uncertainty': 0.1,\n",
      "                              'proper_motion_dec': -27.79127222222222,\n",
      "                              'proper_motion_epoch': 'Jan 1 2000 12:00AM',\n",
      "                              'proper_motion_ra': 3.54413275,\n",
      "                              'proposer_name': 'TARGET-OBSERVATION-6',\n",
      "                              'ra': 53.16199112,\n",
      "                              'ra_uncertainty': 0.1,\n",
      "                              'source_type': 'UNKNOWN',\n",
      "                              'type': 'FIXED'},\n",
      "                'telescope': 'JWST',\n",
      "                'time': {   'barycentric_correction': 120.9140469320118,\n",
      "                            'barycentric_expend': 57409.94942256077,\n",
      "                            'barycentric_expmid': 57409.94861487533,\n",
      "                            'barycentric_expstart': 57409.94780718945,\n",
      "                            'heliocentric_correction': 119.5031444309279,\n",
      "                            'heliocentric_expend': 57409.94940623085,\n",
      "                            'heliocentric_expmid': 57409.94859854543,\n",
      "                            'heliocentric_expstart': 57409.94779085956},\n",
      "                'time_sys': 'UTC',\n",
      "                'velocity_aberration': {   'dec_offset': -1.366780737394e-07,\n",
      "                                           'ra_offset': -1.4674276407601e-07,\n",
      "                                           'scale_factor': 0.9999999532065807},\n",
      "                'visit': {   'internal_target': False,\n",
      "                             'start_time': '2016-01-22 22:35:38.1980000',\n",
      "                             'too_visit': False,\n",
      "                             'total_exposures': 9,\n",
      "                             'type': 'PRIME',\n",
      "                             'wfs_visit_indicator': ''},\n",
      "                'wcsinfo': {   'cdelt1': 0.103267,\n",
      "                               'cdelt2': 0.105324,\n",
      "                               'crpix1': 1024.5,\n",
      "                               'crpix2': 1024.5,\n",
      "                               'crval1': 53.16199112,\n",
      "                               'crval2': -27.79127312000003,\n",
      "                               'crval3': 0.0,\n",
      "                               'ctype1': 'RA---TAN',\n",
      "                               'ctype2': 'DEC--TAN',\n",
      "                               'ctype3': 'WAVE',\n",
      "                               'cunit1': 'deg',\n",
      "                               'cunit2': 'deg',\n",
      "                               'cunit3': 'microns',\n",
      "                               'dec_ref': -27.79127312000003,\n",
      "                               'pc1_1': 1.0,\n",
      "                               'pc1_2': -0.0,\n",
      "                               'pc2_1': 0.0,\n",
      "                               'pc2_2': 1.0,\n",
      "                               'pc3_1': 1.0,\n",
      "                               'pc3_2': 0.0,\n",
      "                               'ra_ref': 53.16199112,\n",
      "                               'roll_ref': 180.0552393634021,\n",
      "                               's_region': '',\n",
      "                               'spectral_order': -1,\n",
      "                               'v2_ref': 379.5532,\n",
      "                               'v3_ref': -429.1471,\n",
      "                               'v3yangle': 138.5268,\n",
      "                               'vparity': -1,\n",
      "                               'waverange_end': 1.8e-06,\n",
      "                               'waverange_start': 1e-06,\n",
      "                               'wcsaxes': 3}},\n",
      "    'spec': [   {   'meta': {   'date': '2017-03-09T11:40:03.994',\n",
      "                                'model_type': 'SpecModel'},\n",
      "                    'spec_table': <array (unloaded) shape: [1176] dtype: [('WAVELENGTH', '>f8'), ('FLUX', '>f8'), ('ERROR', '>f8'), ('DQ', '>i4'), ('NET', '>f8'), ('NERROR', '>f8'), ('BACKGROUND', '>f8'), ('BERROR', '>f8')]>}]}\n"
     ]
    }
   ],
   "source": [
    "FILE = \"jw95065-a3001_s1_nirspec_f100lp-g140m_x1d.fits\"\n",
    "AS_ASDF = extract_asdf(FILE)\n",
    "pp.pprint(AS_ASDF)"
   ]
  },
  {
   "cell_type": "markdown",
   "metadata": {},
   "source": [
    "### Extract the spectral table (if applicable)\n",
    "Some JWST data files, such as the example above, will include a spectral table or other binary data in the ASDF extension."
   ]
  },
  {
   "cell_type": "code",
   "execution_count": 4,
   "metadata": {},
   "outputs": [
    {
     "name": "stdout",
     "output_type": "stream",
     "text": [
      "[   {   'meta': {'date': '2017-03-09T11:40:03.994', 'model_type': 'SpecModel'},\n",
      "        'spec_table': <array (unloaded) shape: [1176] dtype: [('WAVELENGTH', '>f8'), ('FLUX', '>f8'), ('ERROR', '>f8'), ('DQ', '>i4'), ('NET', '>f8'), ('NERROR', '>f8'), ('BACKGROUND', '>f8'), ('BERROR', '>f8')]>}]\n"
     ]
    }
   ],
   "source": [
    "pp.pprint(AS_ASDF['spec'])"
   ]
  },
  {
   "cell_type": "markdown",
   "metadata": {},
   "source": [
    "As we can see, this binary data in the 'spec_table' remains unloaded until we access it directly as a numpy array."
   ]
  },
  {
   "cell_type": "code",
   "execution_count": 5,
   "metadata": {
    "collapsed": true
   },
   "outputs": [],
   "source": [
    "def get_spec_table(asdf_tree):\n",
    "    \"\"\" Look for a 'spec_table' entry inside the asdf tree and read it into a numpy array.\n",
    "    \n",
    "    :param asdf_tree:  The ASDF tree object to operate on.\n",
    "    :type asdf_tree:  AsdfObject\n",
    "    \"\"\"\n",
    "    \n",
    "    # Look for a 'spec' entry in the asdf_tree and try to access 'spec_table'\n",
    "    try:\n",
    "        spectrum = asdf_tree['spec'][0]\n",
    "        table = np.array(spectrum['spec_table'])\n",
    "        \n",
    "    # May get a key or index error depending on how far the 'spec_table' search gets\n",
    "    except (KeyError, IndexError):\n",
    "        table = None\n",
    "        print(\"No spectrum found\")\n",
    "        \n",
    "    return table"
   ]
  },
  {
   "cell_type": "code",
   "execution_count": 6,
   "metadata": {},
   "outputs": [
    {
     "name": "stdout",
     "output_type": "stream",
     "text": [
      "[( 0.99204794,  -0.83176374,  1., 0,  -0.83176374,  1.,  0.,  1.)\n",
      " ( 0.99268565,  -2.25566387,  1., 0,  -2.25566387,  1.,  0.,  1.)\n",
      " ( 0.99332336, -21.05964851,  1., 0, -21.05964851,  1.,  0.,  1.) ...,\n",
      " ( 1.7400817 ,   0.32447931,  1., 0,   0.32447931,  1.,  0.,  1.)\n",
      " ( 1.74071941,   0.15815875,  1., 0,   0.15815875,  1.,  0.,  1.)\n",
      " ( 1.74135712,   0.15815875,  1., 0,   0.15815875,  1.,  0.,  1.)]\n"
     ]
    }
   ],
   "source": [
    "TABLE = get_spec_table(AS_ASDF)\n",
    "print(TABLE)"
   ]
  },
  {
   "cell_type": "markdown",
   "metadata": {},
   "source": [
    "### Display results\n",
    "With the binary data loaded, we can now use matplotlib to quickly visualize the contents."
   ]
  },
  {
   "cell_type": "code",
   "execution_count": 7,
   "metadata": {
    "collapsed": true
   },
   "outputs": [],
   "source": [
    "import matplotlib.pyplot as plt\n",
    "\n",
    "def spec_plot(spec_table):\n",
    "    \"\"\" Use matplotlib to plot flux vs wavelength for an asdf spec_table\n",
    "    \n",
    "    :param spec_table:  The numpy array containing spec_table data.\n",
    "    :type spec_table:  ndarray\n",
    "    \"\"\"\n",
    "    \n",
    "    # Try to set X and Y\n",
    "    try:\n",
    "        x = spec_table['WAVELENGTH']\n",
    "        y = spec_table['FLUX']\n",
    "    except ValueError:\n",
    "        print(\"spec_plot not given a valid spectral table\")\n",
    "        return\n",
    "    \n",
    "    # Create and show the plot\n",
    "    plt.plot(x, y)\n",
    "    plt.show()"
   ]
  },
  {
   "cell_type": "code",
   "execution_count": 8,
   "metadata": {},
   "outputs": [
    {
     "data": {
      "image/png": "[encoded data removed]",
      "text/plain": [
       "<matplotlib.figure.Figure at 0x1164e0128>"
      ]
     },
     "metadata": {},
     "output_type": "display_data"
    }
   ],
   "source": [
    "spec_plot(TABLE)"
   ]
  },
  {
   "cell_type": "markdown",
   "metadata": {},
   "source": [
    "### Save the spectral table to a new file\n",
    "Now that the spectral table is loaded, it may be useful to save this in a separate .csv file."
   ]
  },
  {
   "cell_type": "code",
   "execution_count": 9,
   "metadata": {
    "collapsed": true
   },
   "outputs": [],
   "source": [
    "def save_numpy_to_csv(np_array, fname):\n",
    "    \"\"\" Save a numpy array to a csv file with headers included.\n",
    "    \n",
    "    :param np_array:  The numpy array containing the data we wish to save.\n",
    "    :type np_array:  ndarray\n",
    "    \n",
    "    :param fname:  The desired output filename.\n",
    "    :type fname:  str\n",
    "    \"\"\"\n",
    "    \n",
    "    # Get the column headers out of the numpy array\n",
    "    data_types = np_array.dtype\n",
    "    column_names = str(data_types.names)\n",
    "    column_names = column_names.replace('(', '')\n",
    "    column_names = column_names.replace(')', '')\n",
    "    \n",
    "    # Use the savetxt function to save the array to file\n",
    "    np.savetxt(fname, np_array, delimiter=\",\", header=column_names, comments='')\n",
    "    \n",
    "    print(\"File saved: {0}\".format(fname))"
   ]
  },
  {
   "cell_type": "code",
   "execution_count": 10,
   "metadata": {},
   "outputs": [
    {
     "name": "stdout",
     "output_type": "stream",
     "text": [
      "File saved: spec_table.csv\n"
     ]
    }
   ],
   "source": [
    "FILENAME = \"spec_table.csv\"\n",
    "save_numpy_to_csv(TABLE, FILENAME)"
   ]
  },
  {
   "cell_type": "code",
   "execution_count": null,
   "metadata": {
    "collapsed": true
   },
   "outputs": [],
   "source": []
  }
 ],
 "metadata": {
  "kernelspec": {
   "display_name": "Python 3",
   "language": "python",
   "name": "python3"
  },
  "language_info": {
   "codemirror_mode": {
    "name": "ipython",
    "version": 3
   },
   "file_extension": ".py",
   "mimetype": "text/x-python",
   "name": "python",
   "nbconvert_exporter": "python",
   "pygments_lexer": "ipython3",
   "version": "3.6.2"
  }
 },
 "nbformat": 4,
 "nbformat_minor": 2
}
